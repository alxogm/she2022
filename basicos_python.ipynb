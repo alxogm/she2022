{
  "nbformat": 4,
  "nbformat_minor": 0,
  "metadata": {
    "colab": {
      "provenance": [],
      "authorship_tag": "ABX9TyPUCAQTF4p9TDDIkCol31D0",
      "include_colab_link": true
    },
    "kernelspec": {
      "name": "python3",
      "display_name": "Python 3"
    },
    "language_info": {
      "name": "python"
    }
  },
  "cells": [
    {
      "cell_type": "markdown",
      "metadata": {
        "id": "view-in-github",
        "colab_type": "text"
      },
      "source": [
        "<a href=\"https://colab.research.google.com/github/alxogm/she2022/blob/main/basicos_python.ipynb\" target=\"_parent\"><img src=\"https://colab.research.google.com/assets/colab-badge.svg\" alt=\"Open In Colab\"/></a>"
      ]
    },
    {
      "cell_type": "code",
      "execution_count": null,
      "metadata": {
        "id": "GIG4YlQqnw9S"
      },
      "outputs": [],
      "source": []
    },
    {
      "cell_type": "markdown",
      "source": [
        "Mi primer notebook"
      ],
      "metadata": {
        "id": "Ofz_z4WuoDGE"
      }
    },
    {
      "cell_type": "code",
      "source": [],
      "metadata": {
        "id": "OzSyEA19oFD1"
      },
      "execution_count": null,
      "outputs": []
    },
    {
      "cell_type": "code",
      "source": [],
      "metadata": {
        "id": "4g7XWb7xoJUg"
      },
      "execution_count": null,
      "outputs": []
    },
    {
      "cell_type": "code",
      "source": [
        "a=3\n",
        "b=5\n",
        "c=a*b"
      ],
      "metadata": {
        "id": "1W8RVJwvoJqJ"
      },
      "execution_count": 3,
      "outputs": []
    },
    {
      "cell_type": "code",
      "source": [
        "print(c)"
      ],
      "metadata": {
        "colab": {
          "base_uri": "https://localhost:8080/"
        },
        "id": "v2Zmdfl3oP-8",
        "outputId": "0ec7e820-aa57-46fa-de8c-fcc041923b68"
      },
      "execution_count": 5,
      "outputs": [
        {
          "output_type": "stream",
          "name": "stdout",
          "text": [
            "15\n"
          ]
        }
      ]
    },
    {
      "cell_type": "code",
      "source": [
        "def funcion1(arg1,arg2):\n",
        "    salida=arg1*arg2\n",
        "    return salida"
      ],
      "metadata": {
        "id": "F40O8MmMogBu"
      },
      "execution_count": 6,
      "outputs": []
    },
    {
      "cell_type": "code",
      "source": [
        "c2=funcion1(3,5)"
      ],
      "metadata": {
        "id": "s8u429m2pZVs"
      },
      "execution_count": 8,
      "outputs": []
    },
    {
      "cell_type": "code",
      "source": [
        "print(c2)"
      ],
      "metadata": {
        "colab": {
          "base_uri": "https://localhost:8080/"
        },
        "id": "8sC-hY1Ppmey",
        "outputId": "070d8588-8037-408b-a64c-0875a0395e0f"
      },
      "execution_count": 9,
      "outputs": [
        {
          "output_type": "stream",
          "name": "stdout",
          "text": [
            "15\n"
          ]
        }
      ]
    },
    {
      "cell_type": "code",
      "source": [
        "import numpy as np\n",
        "import matplotlib.pyplot as plt"
      ],
      "metadata": {
        "id": "Pd0EM0fIr0Dl"
      },
      "execution_count": 37,
      "outputs": []
    },
    {
      "cell_type": "code",
      "source": [
        "def raices(a,b,c):\n",
        "  if a<=0:\n",
        "    return \"Error: a es negativo \"\n",
        "  raiz1=(-b+np.sqrt(b**2-4*a*c))/(2*a)\n",
        "  raiz2=(-b-np.sqrt(b**2-4*a*c))/(2*a)  \n",
        "  return raiz1,raiz2"
      ],
      "metadata": {
        "id": "4AJIF3Jfpus_"
      },
      "execution_count": 11,
      "outputs": []
    },
    {
      "cell_type": "code",
      "source": [
        "raices(1,3,-4)"
      ],
      "metadata": {
        "colab": {
          "base_uri": "https://localhost:8080/"
        },
        "id": "e97uh23fr2wA",
        "outputId": "8fe18aea-06e1-4546-a5c6-4c481ea1e8e4"
      },
      "execution_count": 15,
      "outputs": [
        {
          "output_type": "execute_result",
          "data": {
            "text/plain": [
              "(1.0, -4.0)"
            ]
          },
          "metadata": {},
          "execution_count": 15
        }
      ]
    },
    {
      "cell_type": "code",
      "source": [
        "def potencia(x,exp):\n",
        "  if exp>0:\n",
        "    return x**exp\n",
        "  else:\n",
        "    return \"la potencia no es positiva\""
      ],
      "metadata": {
        "id": "d3pWDNLzsIWi"
      },
      "execution_count": 16,
      "outputs": []
    },
    {
      "cell_type": "code",
      "source": [
        "potencia(3,3)"
      ],
      "metadata": {
        "colab": {
          "base_uri": "https://localhost:8080/"
        },
        "id": "dW4kkhS0tIa6",
        "outputId": "3b78800f-5912-46c0-aeba-25549d68b0ea"
      },
      "execution_count": 17,
      "outputs": [
        {
          "output_type": "execute_result",
          "data": {
            "text/plain": [
              "27"
            ]
          },
          "metadata": {},
          "execution_count": 17
        }
      ]
    },
    {
      "cell_type": "code",
      "source": [
        "for pot in range(0,9):\n",
        "  print(potencia(3,pot))"
      ],
      "metadata": {
        "colab": {
          "base_uri": "https://localhost:8080/"
        },
        "id": "ylEj7bQmtKq6",
        "outputId": "5397dc6a-e37e-456c-a7cb-31083859bbd3"
      },
      "execution_count": 21,
      "outputs": [
        {
          "output_type": "stream",
          "name": "stdout",
          "text": [
            "la potencia no es positiva\n",
            "3\n",
            "9\n",
            "27\n",
            "81\n",
            "243\n",
            "729\n",
            "2187\n",
            "6561\n"
          ]
        }
      ]
    },
    {
      "cell_type": "code",
      "source": [
        "nombres=['Alma','Atalia','Michelle','Karina']"
      ],
      "metadata": {
        "id": "QmJqqCR1tab_"
      },
      "execution_count": 22,
      "outputs": []
    },
    {
      "cell_type": "code",
      "source": [
        "for nombre in nombres:\n",
        "  if (nombre=='Alma') or (nombre=='Atalia'):\n",
        "    print(nombre + 'es tallerista')\n",
        "  else:\n",
        "    print(nombre + 'es asistente de She++')\n",
        "  "
      ],
      "metadata": {
        "colab": {
          "base_uri": "https://localhost:8080/"
        },
        "id": "OFfelfGot7qd",
        "outputId": "82cc6256-cb32-431f-da3e-c475a2450b9b"
      },
      "execution_count": 26,
      "outputs": [
        {
          "output_type": "stream",
          "name": "stdout",
          "text": [
            "Almaes tallerista\n",
            "Ataliaes tallerista\n",
            "Michellees asistente de She++\n",
            "Karinaes asistente de She++\n"
          ]
        }
      ]
    },
    {
      "cell_type": "code",
      "source": [
        "x_array=np.array([0,1,2,3,4,5,6])"
      ],
      "metadata": {
        "id": "kIe7ec5Pt-yG"
      },
      "execution_count": 27,
      "outputs": []
    },
    {
      "cell_type": "code",
      "source": [
        "x_array"
      ],
      "metadata": {
        "colab": {
          "base_uri": "https://localhost:8080/"
        },
        "id": "Okime98fuoTy",
        "outputId": "ce98a44f-7e7d-45f5-b7c8-827115a26a89"
      },
      "execution_count": 28,
      "outputs": [
        {
          "output_type": "execute_result",
          "data": {
            "text/plain": [
              "array([0, 1, 2, 3, 4, 5, 6])"
            ]
          },
          "metadata": {},
          "execution_count": 28
        }
      ]
    },
    {
      "cell_type": "code",
      "source": [
        "xpot=np.zeros(len(x_array))\n",
        "for num,i in enumerate(x_array):\n",
        "  xpot[i]=potencia(num,2)"
      ],
      "metadata": {
        "id": "KxamCBBhuppp"
      },
      "execution_count": 33,
      "outputs": []
    },
    {
      "cell_type": "code",
      "source": [
        "xpot"
      ],
      "metadata": {
        "colab": {
          "base_uri": "https://localhost:8080/"
        },
        "id": "x97gUwETvhu_",
        "outputId": "77a514c2-379c-4c3f-ec51-7df5f7882f65"
      },
      "execution_count": 34,
      "outputs": [
        {
          "output_type": "execute_result",
          "data": {
            "text/plain": [
              "array([ 0.,  1.,  4.,  9., 16., 25., 36.])"
            ]
          },
          "metadata": {},
          "execution_count": 34
        }
      ]
    },
    {
      "cell_type": "code",
      "source": [
        "potencia(x_array,2)"
      ],
      "metadata": {
        "colab": {
          "base_uri": "https://localhost:8080/"
        },
        "id": "tufknKNzu9vD",
        "outputId": "5a7d815e-b1cb-4b4d-bb79-3b53a6f29810"
      },
      "execution_count": 32,
      "outputs": [
        {
          "output_type": "execute_result",
          "data": {
            "text/plain": [
              "array([ 0,  1,  4,  9, 16, 25, 36])"
            ]
          },
          "metadata": {},
          "execution_count": 32
        }
      ]
    },
    {
      "cell_type": "code",
      "source": [
        "x_array,xpot"
      ],
      "metadata": {
        "colab": {
          "base_uri": "https://localhost:8080/"
        },
        "id": "sDk0xUa1vEWf",
        "outputId": "fc97e323-d624-4398-eb68-050ca54a7b51"
      },
      "execution_count": 35,
      "outputs": [
        {
          "output_type": "execute_result",
          "data": {
            "text/plain": [
              "(array([0, 1, 2, 3, 4, 5, 6]), array([ 0.,  1.,  4.,  9., 16., 25., 36.]))"
            ]
          },
          "metadata": {},
          "execution_count": 35
        }
      ]
    },
    {
      "cell_type": "code",
      "source": [
        "plt.plot(x_array,xpot)"
      ],
      "metadata": {
        "colab": {
          "base_uri": "https://localhost:8080/",
          "height": 303
        },
        "id": "CRKlsylRxQoR",
        "outputId": "9ac78856-0ac5-453b-da74-c18f1888e38b"
      },
      "execution_count": 39,
      "outputs": [
        {
          "output_type": "execute_result",
          "data": {
            "text/plain": [
              "[<matplotlib.lines.Line2D at 0x7f2fe060efd0>]"
            ]
          },
          "metadata": {},
          "execution_count": 39
        },
        {
          "output_type": "display_data",
          "data": {
            "text/plain": [
              "<Figure size 432x288 with 1 Axes>"
            ],
            "image/png": "[encoded data removed]"
          },
          "metadata": {
            "needs_background": "light"
          }
        }
      ]
    },
    {
      "cell_type": "code",
      "source": [
        "x=np.arange(-2*np.pi,2*np.pi,0.2)\n",
        "y1=np.cos(x)\n",
        "y2=np.sin(x)\n",
        "plt.plot(x,y1,color='r',label='Coseno')\n",
        "plt.plot(x,y2,'b',label='Seno')\n",
        "plt.xlabel('x')\n",
        "plt.ylabel('y')\n",
        "plt.legend()"
      ],
      "metadata": {
        "colab": {
          "base_uri": "https://localhost:8080/",
          "height": 317
        },
        "id": "ULDp9f2-xXMP",
        "outputId": "d330f0a9-ebc4-4a66-c15f-71cb1a891309"
      },
      "execution_count": 47,
      "outputs": [
        {
          "output_type": "execute_result",
          "data": {
            "text/plain": [
              "<matplotlib.legend.Legend at 0x7f2fdf994d50>"
            ]
          },
          "metadata": {},
          "execution_count": 47
        },
        {
          "output_type": "display_data",
          "data": {
            "text/plain": [
              "<Figure size 432x288 with 1 Axes>"
            ],
            "image/png": "[encoded data removed]"
          },
          "metadata": {
            "needs_background": "light"
          }
        }
      ]
    },
    {
      "cell_type": "code",
      "source": [],
      "metadata": {
        "id": "rTW3i3JvxtcK"
      },
      "execution_count": null,
      "outputs": []
    }
  ]
}